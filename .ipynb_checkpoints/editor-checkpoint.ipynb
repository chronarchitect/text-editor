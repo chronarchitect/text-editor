{
 "cells": [
  {
   "cell_type": "code",
   "execution_count": 17,
   "metadata": {},
   "outputs": [],
   "source": [
    "\n",
    "from tkinter import *\n",
    "import tkinter.scrolledtext as tkscroll\n",
    "import tkinter.filedialog as fldiag\n",
    "import tkinter.messagebox as msgbx\n",
    "\n",
    "def dummy():\n",
    "    print(\"Dummy Function Called\")\n",
    "\n",
    "root=Tk()\n",
    "\n",
    "# Text Area\n",
    "text = tkscroll.ScrolledText(root)\n",
    "text.pack()\n",
    "\n",
    "# Menu Functions\n",
    "def open_command():\n",
    "    file = fldiag.askopenfile(parent=root, title='Select a File')\n",
    "    if file != None:\n",
    "        contents = file.read()\n",
    "        text.insert(1.0, contents)\n",
    "        file.close()\n",
    "\n",
    "def new_command():\n",
    "    newDialog = Tk()\n",
    "    fname = Entry(master=newDialog)\n",
    "    fname.pack()\n",
    "    fname.delete(0, END)\n",
    "  \n",
    "        \n",
    "def exit_command():\n",
    "    if msgbx.askokcancel(title=\"Quit?\", message=\"Do you really want to Quit?\"):\n",
    "        root.destroy()\n",
    "        \n",
    "# Creating Menu\n",
    "menu = Menu(root)\n",
    "root.config(menu=menu)\n",
    "# File\n",
    "filemenu = Menu(menu)\n",
    "menu.add_cascade(label = \"File\", menu=filemenu)\n",
    "filemenu.add_command(label=\"New\", command=dummy)\n",
    "filemenu.add_command(label=\"Open\", command=open_command)\n",
    "filemenu.add_command(label=\"Save\", command=dummy)\n",
    "filemenu.add_separator()\n",
    "filemenu.add_command(label=\"Exit\", command=exit_command)\n",
    "# Help\n",
    "helpmenu = Menu(menu)\n",
    "menu.add_cascade(label = \"Help\", menu=helpmenu)\n",
    "helpmenu.add_command(label=\"About\", command=dummy)\n",
    "helpmenu.add_command(label=\"Help\", command=dummy)\n",
    "\n",
    "# button = Button(root, text=\"Useless\")\n",
    "# button.pack()\n",
    "\n",
    "root.mainloop()"
   ]
  },
  {
   "cell_type": "code",
   "execution_count": null,
   "metadata": {},
   "outputs": [],
   "source": []
  }
 ],
 "metadata": {
  "kernelspec": {
   "display_name": "Python 3",
   "language": "python",
   "name": "python3"
  },
  "language_info": {
   "codemirror_mode": {
    "name": "ipython",
    "version": 3
   },
   "file_extension": ".py",
   "mimetype": "text/x-python",
   "name": "python",
   "nbconvert_exporter": "python",
   "pygments_lexer": "ipython3",
   "version": "3.6.7"
  }
 },
 "nbformat": 4,
 "nbformat_minor": 2
}
