{
 "cells": [
  {
   "cell_type": "code",
   "execution_count": 12,
   "metadata": {},
   "outputs": [],
   "source": [
    "\n",
    "from tkinter import *\n",
    "import tkinter.scrolledtext as tkscroll\n",
    "import tkinter.filedialog as fdialog\n",
    "import tkinter.messagebox as msgbx\n",
    "import tkinter.simpledialog as sdialog\n",
    "\n",
    "def dummy():\n",
    "    print(\"Dummy Function Called\")\n",
    "\n",
    "root=Tk()\n",
    "root.title(\"Editor\")\n",
    "\n",
    "# Text Area\n",
    "text = tkscroll.ScrolledText(root)\n",
    "text.pack()\n",
    "\n",
    "# Menu Functions\n",
    "def open_command():\n",
    "    file = fdialog.askopenfile(parent=root, title='Select a File')\n",
    "    if file != None:\n",
    "        contents = file.read()\n",
    "        text.insert(1.0, contents)\n",
    "        file.close()\n",
    "\n",
    "def new_command():\n",
    "    fname = sdialog.askstring(title=\"New\", prompt=\"Enter new filename\", parent=root)\n",
    "    if fname != \"\":\n",
    "        fname = fname.strip() + \".txt\"\n",
    "        file = open(fname, mode=\"w+\")\n",
    "        contents = file.read()\n",
    "        text.insert(1.0, contents)\n",
    "        file.close()\n",
    "        \n",
    "def exit_command():\n",
    "    if msgbx.askokcancel(title=\"Quit?\", message=\"Do you really want to Quit?\"):\n",
    "        root.destroy()\n",
    "\n",
    "def save_command():\n",
    "    file = fdialog.asksaveasfile(mode='w')\n",
    "    if file != None:\n",
    "        data = text.get('1.0', END+'-1c')\n",
    "        file.write(data)\n",
    "        file.close()\n",
    "def about_command():\n",
    "    msgbx.showinfo(title)\n",
    "    \n",
    "#Creating menu\n",
    "\n",
    "menu = Menu(root)\n",
    "root.config(menu=menu)\n",
    "# File\n",
    "filemenu = Menu(menu)\n",
    "menu.add_cascade(label = \"File\", menu=filemenu)\n",
    "filemenu.add_command(label=\"New\", command=new_command)\n",
    "filemenu.add_command(label=\"Open\", command=open_command)\n",
    "filemenu.add_command(label=\"Save\", command=save_command)\n",
    "filemenu.add_separator()\n",
    "filemenu.add_command(label=\"Exit\", command=exit_command)\n",
    "# Help\n",
    "helpmenu = Menu(menu)\n",
    "menu.add_cascade(label = \"Help\", menu=helpmenu)\n",
    "helpmenu.add_command(label=\"About\", command=dummy)\n",
    "\n",
    "# button = Button(root, text=\"Useless\")\n",
    "# button.pack()\n",
    "\n",
    "root.mainloop()\n"
   ]
  },
  {
   "cell_type": "code",
   "execution_count": 9,
   "metadata": {},
   "outputs": [
    {
     "ename": "NameError",
     "evalue": "name 'data' is not defined",
     "output_type": "error",
     "traceback": [
      "\u001b[0;31m---------------------------------------------------------------------------\u001b[0m",
      "\u001b[0;31mNameError\u001b[0m                                 Traceback (most recent call last)",
      "\u001b[0;32m<ipython-input-9-c5d84736ba45>\u001b[0m in \u001b[0;36m<module>\u001b[0;34m\u001b[0m\n\u001b[0;32m----> 1\u001b[0;31m \u001b[0mdata\u001b[0m\u001b[0;34m\u001b[0m\u001b[0;34m\u001b[0m\u001b[0m\n\u001b[0m",
      "\u001b[0;31mNameError\u001b[0m: name 'data' is not defined"
     ]
    }
   ],
   "source": [
    "data"
   ]
  },
  {
   "cell_type": "code",
   "execution_count": null,
   "metadata": {},
   "outputs": [],
   "source": []
  }
 ],
 "metadata": {
  "kernelspec": {
   "display_name": "Python 3",
   "language": "python",
   "name": "python3"
  },
  "language_info": {
   "codemirror_mode": {
    "name": "ipython",
    "version": 3
   },
   "file_extension": ".py",
   "mimetype": "text/x-python",
   "name": "python",
   "nbconvert_exporter": "python",
   "pygments_lexer": "ipython3",
   "version": "3.6.7"
  }
 },
 "nbformat": 4,
 "nbformat_minor": 2
}
